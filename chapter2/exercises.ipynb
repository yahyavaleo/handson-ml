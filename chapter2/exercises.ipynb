{
 "cells": [
  {
   "cell_type": "markdown",
   "id": "d17c80d2-265b-4847-a3ed-355931b2c240",
   "metadata": {},
   "source": [
    "## Setup"
   ]
  },
  {
   "cell_type": "code",
   "execution_count": 116,
   "id": "98b0ead6-86fa-4eb0-9a0d-ca1470d891c4",
   "metadata": {},
   "outputs": [],
   "source": [
    "import pandas as pd\n",
    "import numpy as np\n",
    "\n",
    "from sklearn.impute import SimpleImputer\n",
    "from sklearn.pipeline import Pipeline\n",
    "from sklearn.pipeline import FeatureUnion\n",
    "from sklearn.preprocessing import StandardScaler\n",
    "from sklearn.preprocessing import LabelBinarizer\n",
    "from sklearn.base import BaseEstimator, TransformerMixin\n",
    "from sklearn.model_selection import StratifiedShuffleSplit\n",
    "\n",
    "from sklearn.svm import SVR\n",
    "from sklearn.base import clone\n",
    "from sklearn.ensemble import RandomForestRegressor\n",
    "from sklearn.model_selection import GridSearchCV\n",
    "from sklearn.model_selection import RandomizedSearchCV\n",
    "from sklearn.model_selection import cross_val_score\n",
    "from sklearn.feature_selection import SelectFromModel\n",
    "from sklearn.metrics import mean_squared_error\n",
    "\n",
    "from scipy.stats import loguniform"
   ]
  },
  {
   "cell_type": "code",
   "execution_count": 34,
   "id": "7be94b67-6358-478e-a3e5-deaec29bcd82",
   "metadata": {},
   "outputs": [
    {
     "data": {
      "text/html": [
       "<div>\n",
       "<style scoped>\n",
       "    .dataframe tbody tr th:only-of-type {\n",
       "        vertical-align: middle;\n",
       "    }\n",
       "\n",
       "    .dataframe tbody tr th {\n",
       "        vertical-align: top;\n",
       "    }\n",
       "\n",
       "    .dataframe thead th {\n",
       "        text-align: right;\n",
       "    }\n",
       "</style>\n",
       "<table border=\"1\" class=\"dataframe\">\n",
       "  <thead>\n",
       "    <tr style=\"text-align: right;\">\n",
       "      <th></th>\n",
       "      <th>longitude</th>\n",
       "      <th>latitude</th>\n",
       "      <th>housing_median_age</th>\n",
       "      <th>total_rooms</th>\n",
       "      <th>total_bedrooms</th>\n",
       "      <th>population</th>\n",
       "      <th>households</th>\n",
       "      <th>median_income</th>\n",
       "      <th>median_house_value</th>\n",
       "      <th>ocean_proximity</th>\n",
       "    </tr>\n",
       "  </thead>\n",
       "  <tbody>\n",
       "    <tr>\n",
       "      <th>0</th>\n",
       "      <td>-122.23</td>\n",
       "      <td>37.88</td>\n",
       "      <td>41.0</td>\n",
       "      <td>880.0</td>\n",
       "      <td>129.0</td>\n",
       "      <td>322.0</td>\n",
       "      <td>126.0</td>\n",
       "      <td>8.3252</td>\n",
       "      <td>452600.0</td>\n",
       "      <td>NEAR BAY</td>\n",
       "    </tr>\n",
       "    <tr>\n",
       "      <th>1</th>\n",
       "      <td>-122.22</td>\n",
       "      <td>37.86</td>\n",
       "      <td>21.0</td>\n",
       "      <td>7099.0</td>\n",
       "      <td>1106.0</td>\n",
       "      <td>2401.0</td>\n",
       "      <td>1138.0</td>\n",
       "      <td>8.3014</td>\n",
       "      <td>358500.0</td>\n",
       "      <td>NEAR BAY</td>\n",
       "    </tr>\n",
       "    <tr>\n",
       "      <th>2</th>\n",
       "      <td>-122.24</td>\n",
       "      <td>37.85</td>\n",
       "      <td>52.0</td>\n",
       "      <td>1467.0</td>\n",
       "      <td>190.0</td>\n",
       "      <td>496.0</td>\n",
       "      <td>177.0</td>\n",
       "      <td>7.2574</td>\n",
       "      <td>352100.0</td>\n",
       "      <td>NEAR BAY</td>\n",
       "    </tr>\n",
       "    <tr>\n",
       "      <th>3</th>\n",
       "      <td>-122.25</td>\n",
       "      <td>37.85</td>\n",
       "      <td>52.0</td>\n",
       "      <td>1274.0</td>\n",
       "      <td>235.0</td>\n",
       "      <td>558.0</td>\n",
       "      <td>219.0</td>\n",
       "      <td>5.6431</td>\n",
       "      <td>341300.0</td>\n",
       "      <td>NEAR BAY</td>\n",
       "    </tr>\n",
       "    <tr>\n",
       "      <th>4</th>\n",
       "      <td>-122.25</td>\n",
       "      <td>37.85</td>\n",
       "      <td>52.0</td>\n",
       "      <td>1627.0</td>\n",
       "      <td>280.0</td>\n",
       "      <td>565.0</td>\n",
       "      <td>259.0</td>\n",
       "      <td>3.8462</td>\n",
       "      <td>342200.0</td>\n",
       "      <td>NEAR BAY</td>\n",
       "    </tr>\n",
       "  </tbody>\n",
       "</table>\n",
       "</div>"
      ],
      "text/plain": [
       "   longitude  latitude  housing_median_age  total_rooms  total_bedrooms  \\\n",
       "0    -122.23     37.88                41.0        880.0           129.0   \n",
       "1    -122.22     37.86                21.0       7099.0          1106.0   \n",
       "2    -122.24     37.85                52.0       1467.0           190.0   \n",
       "3    -122.25     37.85                52.0       1274.0           235.0   \n",
       "4    -122.25     37.85                52.0       1627.0           280.0   \n",
       "\n",
       "   population  households  median_income  median_house_value ocean_proximity  \n",
       "0       322.0       126.0         8.3252            452600.0        NEAR BAY  \n",
       "1      2401.0      1138.0         8.3014            358500.0        NEAR BAY  \n",
       "2       496.0       177.0         7.2574            352100.0        NEAR BAY  \n",
       "3       558.0       219.0         5.6431            341300.0        NEAR BAY  \n",
       "4       565.0       259.0         3.8462            342200.0        NEAR BAY  "
      ]
     },
     "execution_count": 34,
     "metadata": {},
     "output_type": "execute_result"
    }
   ],
   "source": [
    "housing = pd.read_csv(\"housing.csv\")\n",
    "housing.head()"
   ]
  },
  {
   "cell_type": "code",
   "execution_count": 35,
   "id": "c412609d-dff3-458b-8ef8-8e0e3f4daa26",
   "metadata": {},
   "outputs": [
    {
     "data": {
      "text/plain": [
       "count    20640.000000\n",
       "mean         3.870671\n",
       "std          1.899822\n",
       "min          0.499900\n",
       "25%          2.563400\n",
       "50%          3.534800\n",
       "75%          4.743250\n",
       "max         15.000100\n",
       "Name: median_income, dtype: float64"
      ]
     },
     "execution_count": 35,
     "metadata": {},
     "output_type": "execute_result"
    }
   ],
   "source": [
    "housing[\"median_income\"].describe()"
   ]
  },
  {
   "cell_type": "code",
   "execution_count": 36,
   "id": "94f59e72-edd6-4517-9a81-61d5be305149",
   "metadata": {},
   "outputs": [
    {
     "data": {
      "text/html": [
       "<div>\n",
       "<style scoped>\n",
       "    .dataframe tbody tr th:only-of-type {\n",
       "        vertical-align: middle;\n",
       "    }\n",
       "\n",
       "    .dataframe tbody tr th {\n",
       "        vertical-align: top;\n",
       "    }\n",
       "\n",
       "    .dataframe thead th {\n",
       "        text-align: right;\n",
       "    }\n",
       "</style>\n",
       "<table border=\"1\" class=\"dataframe\">\n",
       "  <thead>\n",
       "    <tr style=\"text-align: right;\">\n",
       "      <th></th>\n",
       "      <th>median_income</th>\n",
       "    </tr>\n",
       "  </thead>\n",
       "  <tbody>\n",
       "    <tr>\n",
       "      <th>count</th>\n",
       "      <td>20640.000000</td>\n",
       "    </tr>\n",
       "    <tr>\n",
       "      <th>mean</th>\n",
       "      <td>3.093362</td>\n",
       "    </tr>\n",
       "    <tr>\n",
       "      <th>std</th>\n",
       "      <td>1.303707</td>\n",
       "    </tr>\n",
       "    <tr>\n",
       "      <th>min</th>\n",
       "      <td>1.000000</td>\n",
       "    </tr>\n",
       "    <tr>\n",
       "      <th>25%</th>\n",
       "      <td>2.000000</td>\n",
       "    </tr>\n",
       "    <tr>\n",
       "      <th>50%</th>\n",
       "      <td>3.000000</td>\n",
       "    </tr>\n",
       "    <tr>\n",
       "      <th>75%</th>\n",
       "      <td>4.000000</td>\n",
       "    </tr>\n",
       "    <tr>\n",
       "      <th>max</th>\n",
       "      <td>11.000000</td>\n",
       "    </tr>\n",
       "  </tbody>\n",
       "</table>\n",
       "</div>"
      ],
      "text/plain": [
       "       median_income\n",
       "count   20640.000000\n",
       "mean        3.093362\n",
       "std         1.303707\n",
       "min         1.000000\n",
       "25%         2.000000\n",
       "50%         3.000000\n",
       "75%         4.000000\n",
       "max        11.000000"
      ]
     },
     "execution_count": 36,
     "metadata": {},
     "output_type": "execute_result"
    }
   ],
   "source": [
    "# Notice that 75% of the values are below 4.0\n",
    "# Notice also that the mean=3.1 and std=1.3\n",
    "pd.DataFrame(np.ceil(housing[\"median_income\"] / 1.5)).describe()"
   ]
  },
  {
   "cell_type": "code",
   "execution_count": 37,
   "id": "73975a1c-26f4-4663-9b7e-14bc17065992",
   "metadata": {},
   "outputs": [
    {
     "data": {
      "text/html": [
       "<div>\n",
       "<style scoped>\n",
       "    .dataframe tbody tr th:only-of-type {\n",
       "        vertical-align: middle;\n",
       "    }\n",
       "\n",
       "    .dataframe tbody tr th {\n",
       "        vertical-align: top;\n",
       "    }\n",
       "\n",
       "    .dataframe thead th {\n",
       "        text-align: right;\n",
       "    }\n",
       "</style>\n",
       "<table border=\"1\" class=\"dataframe\">\n",
       "  <thead>\n",
       "    <tr style=\"text-align: right;\">\n",
       "      <th></th>\n",
       "      <th>longitude</th>\n",
       "      <th>latitude</th>\n",
       "      <th>housing_median_age</th>\n",
       "      <th>total_rooms</th>\n",
       "      <th>total_bedrooms</th>\n",
       "      <th>population</th>\n",
       "      <th>households</th>\n",
       "      <th>median_income</th>\n",
       "      <th>median_house_value</th>\n",
       "      <th>ocean_proximity</th>\n",
       "      <th>income_cat</th>\n",
       "    </tr>\n",
       "  </thead>\n",
       "  <tbody>\n",
       "    <tr>\n",
       "      <th>0</th>\n",
       "      <td>-122.23</td>\n",
       "      <td>37.88</td>\n",
       "      <td>41.0</td>\n",
       "      <td>880.0</td>\n",
       "      <td>129.0</td>\n",
       "      <td>322.0</td>\n",
       "      <td>126.0</td>\n",
       "      <td>8.3252</td>\n",
       "      <td>452600.0</td>\n",
       "      <td>NEAR BAY</td>\n",
       "      <td>5.0</td>\n",
       "    </tr>\n",
       "    <tr>\n",
       "      <th>1</th>\n",
       "      <td>-122.22</td>\n",
       "      <td>37.86</td>\n",
       "      <td>21.0</td>\n",
       "      <td>7099.0</td>\n",
       "      <td>1106.0</td>\n",
       "      <td>2401.0</td>\n",
       "      <td>1138.0</td>\n",
       "      <td>8.3014</td>\n",
       "      <td>358500.0</td>\n",
       "      <td>NEAR BAY</td>\n",
       "      <td>5.0</td>\n",
       "    </tr>\n",
       "    <tr>\n",
       "      <th>2</th>\n",
       "      <td>-122.24</td>\n",
       "      <td>37.85</td>\n",
       "      <td>52.0</td>\n",
       "      <td>1467.0</td>\n",
       "      <td>190.0</td>\n",
       "      <td>496.0</td>\n",
       "      <td>177.0</td>\n",
       "      <td>7.2574</td>\n",
       "      <td>352100.0</td>\n",
       "      <td>NEAR BAY</td>\n",
       "      <td>5.0</td>\n",
       "    </tr>\n",
       "    <tr>\n",
       "      <th>3</th>\n",
       "      <td>-122.25</td>\n",
       "      <td>37.85</td>\n",
       "      <td>52.0</td>\n",
       "      <td>1274.0</td>\n",
       "      <td>235.0</td>\n",
       "      <td>558.0</td>\n",
       "      <td>219.0</td>\n",
       "      <td>5.6431</td>\n",
       "      <td>341300.0</td>\n",
       "      <td>NEAR BAY</td>\n",
       "      <td>4.0</td>\n",
       "    </tr>\n",
       "    <tr>\n",
       "      <th>4</th>\n",
       "      <td>-122.25</td>\n",
       "      <td>37.85</td>\n",
       "      <td>52.0</td>\n",
       "      <td>1627.0</td>\n",
       "      <td>280.0</td>\n",
       "      <td>565.0</td>\n",
       "      <td>259.0</td>\n",
       "      <td>3.8462</td>\n",
       "      <td>342200.0</td>\n",
       "      <td>NEAR BAY</td>\n",
       "      <td>3.0</td>\n",
       "    </tr>\n",
       "  </tbody>\n",
       "</table>\n",
       "</div>"
      ],
      "text/plain": [
       "   longitude  latitude  housing_median_age  total_rooms  total_bedrooms  \\\n",
       "0    -122.23     37.88                41.0        880.0           129.0   \n",
       "1    -122.22     37.86                21.0       7099.0          1106.0   \n",
       "2    -122.24     37.85                52.0       1467.0           190.0   \n",
       "3    -122.25     37.85                52.0       1274.0           235.0   \n",
       "4    -122.25     37.85                52.0       1627.0           280.0   \n",
       "\n",
       "   population  households  median_income  median_house_value ocean_proximity  \\\n",
       "0       322.0       126.0         8.3252            452600.0        NEAR BAY   \n",
       "1      2401.0      1138.0         8.3014            358500.0        NEAR BAY   \n",
       "2       496.0       177.0         7.2574            352100.0        NEAR BAY   \n",
       "3       558.0       219.0         5.6431            341300.0        NEAR BAY   \n",
       "4       565.0       259.0         3.8462            342200.0        NEAR BAY   \n",
       "\n",
       "   income_cat  \n",
       "0         5.0  \n",
       "1         5.0  \n",
       "2         5.0  \n",
       "3         4.0  \n",
       "4         3.0  "
      ]
     },
     "execution_count": 37,
     "metadata": {},
     "output_type": "execute_result"
    }
   ],
   "source": [
    "housing[\"income_cat\"] = np.ceil(housing[\"median_income\"] / 1.5)\n",
    "housing[\"income_cat\"].where(housing[\"income_cat\"] < 5, 5, inplace=True)\n",
    "housing.head()"
   ]
  },
  {
   "cell_type": "code",
   "execution_count": 38,
   "id": "088edb8a-0069-4707-bf73-e495aacef4b6",
   "metadata": {},
   "outputs": [],
   "source": [
    "sss = StratifiedShuffleSplit(n_splits=1, test_size=0.2, random_state=42)\n",
    "# Stratification is done based on the y parameter\n",
    "for train_index, test_index in sss.split(X=housing, y=housing[\"income_cat\"]):\n",
    "    strat_train_set = housing.loc[train_index]\n",
    "    strat_test_set = housing.loc[test_index]"
   ]
  },
  {
   "cell_type": "code",
   "execution_count": 39,
   "id": "3dbc9677-e3c4-46b7-8229-58ff35f8d2bb",
   "metadata": {},
   "outputs": [
    {
     "name": "stdout",
     "output_type": "stream",
     "text": [
      "             housing     train      test\n",
      "income_cat                              \n",
      "3.0         0.350581  0.350594  0.350533\n",
      "2.0         0.318847  0.318859  0.318798\n",
      "4.0         0.176308  0.176296  0.176357\n",
      "5.0         0.114438  0.114462  0.114341\n",
      "1.0         0.039826  0.039789  0.039971\n"
     ]
    }
   ],
   "source": [
    "housing_income_cat_ratio = housing[\"income_cat\"].value_counts() / len(housing)\n",
    "train_income_cat_ratio = strat_train_set[\"income_cat\"].value_counts() / len(strat_train_set)\n",
    "test_income_cat_ratio = strat_test_set[\"income_cat\"].value_counts() / len(strat_test_set)\n",
    "\n",
    "housing_df = housing_income_cat_ratio.rename(\"housing\")\n",
    "train_df = train_income_cat_ratio.rename(\"train\")\n",
    "test_df = test_income_cat_ratio.rename(\"test\")\n",
    "\n",
    "combined_df = pd.merge(left=housing_df, right=train_df, how=\"outer\", on=\"income_cat\")\n",
    "combined_df = pd.merge(left=combined_df, right=test_df, how=\"outer\", on=\"income_cat\")\n",
    "\n",
    "print(combined_df)"
   ]
  },
  {
   "cell_type": "code",
   "execution_count": 40,
   "id": "2235cdaf-05a2-4e48-8854-1e9ccc15b5e7",
   "metadata": {},
   "outputs": [],
   "source": [
    "for set in (strat_train_set, strat_test_set):\n",
    "    set.drop(\"income_cat\", axis=1, inplace=True)"
   ]
  },
  {
   "cell_type": "code",
   "execution_count": 41,
   "id": "ba0e0ac3-3277-4031-8353-e6ab25fdc095",
   "metadata": {},
   "outputs": [
    {
     "data": {
      "text/plain": [
       "True"
      ]
     },
     "execution_count": 41,
     "metadata": {},
     "output_type": "execute_result"
    }
   ],
   "source": [
    "X = strat_train_set.drop(\"median_house_value\", axis=1)\n",
    "X_numerical = X.drop(\"ocean_proximity\", axis=1)\n",
    "y = strat_train_set[\"median_house_value\"].copy()\n",
    "\n",
    "len(X) == len(X_numerical) == len(y)"
   ]
  },
  {
   "cell_type": "code",
   "execution_count": 42,
   "id": "7ed6ca6c-18af-483a-bb8f-882419fc8614",
   "metadata": {},
   "outputs": [],
   "source": [
    "numerical_attribs = list(X_numerical)\n",
    "categorical_attribs = [\"ocean_proximity\"]"
   ]
  },
  {
   "cell_type": "code",
   "execution_count": 45,
   "id": "8eab8cd5-ec83-425e-bd70-7d12d4b58bcb",
   "metadata": {},
   "outputs": [],
   "source": [
    "class DataFrameSelector(BaseEstimator, TransformerMixin):\n",
    "    def __init__(self, attribute_names):\n",
    "        self.attribute_names = attribute_names\n",
    "\n",
    "    def fit(self, X, y=None):\n",
    "        return self\n",
    "\n",
    "    def transform(self, X, y=None):\n",
    "        return X[self.attribute_names].values\n",
    "\n",
    "rooms_ix, bedrooms_ix, population_ix, household_ix = 3, 4, 5, 6\n",
    "\n",
    "class CombinedAttributesAdder(BaseEstimator, TransformerMixin):\n",
    "    def __init__(self, add_bedrooms_per_room = True):\n",
    "        self.add_bedrooms_per_room = add_bedrooms_per_room\n",
    "\n",
    "    def fit(self, X, y=None):\n",
    "        return self\n",
    "    \n",
    "    def transform(self, X, y=None):\n",
    "        rooms_per_household = X[:, rooms_ix] / X[:, household_ix]\n",
    "        population_per_household = X[:, population_ix] / X[:, household_ix]\n",
    "        if self.add_bedrooms_per_room:\n",
    "            bedrooms_per_room = X[:, bedrooms_ix] / X[:, rooms_ix]\n",
    "            return np.c_[X, rooms_per_household, population_per_household, bedrooms_per_room]\n",
    "        else:\n",
    "            return np.c_[X, rooms_per_household, population_per_household]\n",
    "\n",
    "class MyLabelBinarizer(LabelBinarizer):\n",
    "    def fit(self, X, y=None):\n",
    "        return super().fit(X)\n",
    "\n",
    "    def transform(self, X, y=None):\n",
    "        return super().transform(X)\n",
    "\n",
    "    def fit_transform(self, X, y=None):\n",
    "        return super().fit(X).transform(X)"
   ]
  },
  {
   "cell_type": "code",
   "execution_count": 47,
   "id": "70895d24-84fd-428b-99f4-b02a066eceb8",
   "metadata": {},
   "outputs": [],
   "source": [
    "# steps is a list of (name, transform) tuples\n",
    "numerical_pipeline = Pipeline(steps=[\n",
    "    (\"selector\", DataFrameSelector(numerical_attribs)),\n",
    "    (\"imputer\", SimpleImputer(strategy=\"median\")),\n",
    "    (\"attr_adder\", CombinedAttributesAdder()),\n",
    "    (\"std_scaler\", StandardScaler()),\n",
    "])\n",
    "\n",
    "categorical_pipeline = Pipeline(steps=[\n",
    "    (\"selector\", DataFrameSelector(categorical_attribs)),\n",
    "    (\"label_binarizer\", MyLabelBinarizer()),\n",
    "])\n",
    "\n",
    "preprocessing_pipeline = FeatureUnion(transformer_list=[\n",
    "    (\"numerical_pipeline\", numerical_pipeline),\n",
    "    (\"categorical_pipeline\", categorical_pipeline),\n",
    "])"
   ]
  },
  {
   "cell_type": "code",
   "execution_count": 54,
   "id": "6839bfb9-505f-4ea4-b9f6-ea610d81901c",
   "metadata": {},
   "outputs": [
    {
     "data": {
      "text/plain": [
       "(16512, 16)"
      ]
     },
     "execution_count": 54,
     "metadata": {},
     "output_type": "execute_result"
    }
   ],
   "source": [
    "X_preprocessed = preprocessing_pipeline.fit_transform(X)\n",
    "X_preprocessed.shape"
   ]
  },
  {
   "cell_type": "code",
   "execution_count": 55,
   "id": "73aff6b2-c7f5-42ae-8bf9-03b29e3f93d0",
   "metadata": {},
   "outputs": [],
   "source": [
    "def display_scores(scores):\n",
    "    print(f\"Scores:\\t {scores}\")\n",
    "    print(f\"Mean:\\t {np.mean(scores)}\")\n",
    "    print(f\"Standard Deviation:\\t {np.std(scores)}\")"
   ]
  },
  {
   "cell_type": "markdown",
   "id": "5698e30f-6a78-4c7a-8b1b-d77b2a8abee3",
   "metadata": {},
   "source": [
    "## Question 1\n",
    "\n",
    "Try a support vector regressor (`sklearn.svm.SVR`), with various hyperparameters such as `kernel=\"linear\"` (with various values for the `C` hyperparameter) or `kernel=\"rbf\"` (with various values for the `C` and `gamma` hyperparameters). Don't worry about what these hyperparameters mean for now. How does the best SVR predictor perform?"
   ]
  },
  {
   "cell_type": "code",
   "execution_count": 61,
   "id": "4bc30a61-28d5-4ade-9d06-e26a75f0a395",
   "metadata": {},
   "outputs": [
    {
     "data": {
      "text/html": [
       "<style>#sk-container-id-1 {color: black;}#sk-container-id-1 pre{padding: 0;}#sk-container-id-1 div.sk-toggleable {background-color: white;}#sk-container-id-1 label.sk-toggleable__label {cursor: pointer;display: block;width: 100%;margin-bottom: 0;padding: 0.3em;box-sizing: border-box;text-align: center;}#sk-container-id-1 label.sk-toggleable__label-arrow:before {content: \"▸\";float: left;margin-right: 0.25em;color: #696969;}#sk-container-id-1 label.sk-toggleable__label-arrow:hover:before {color: black;}#sk-container-id-1 div.sk-estimator:hover label.sk-toggleable__label-arrow:before {color: black;}#sk-container-id-1 div.sk-toggleable__content {max-height: 0;max-width: 0;overflow: hidden;text-align: left;background-color: #f0f8ff;}#sk-container-id-1 div.sk-toggleable__content pre {margin: 0.2em;color: black;border-radius: 0.25em;background-color: #f0f8ff;}#sk-container-id-1 input.sk-toggleable__control:checked~div.sk-toggleable__content {max-height: 200px;max-width: 100%;overflow: auto;}#sk-container-id-1 input.sk-toggleable__control:checked~label.sk-toggleable__label-arrow:before {content: \"▾\";}#sk-container-id-1 div.sk-estimator input.sk-toggleable__control:checked~label.sk-toggleable__label {background-color: #d4ebff;}#sk-container-id-1 div.sk-label input.sk-toggleable__control:checked~label.sk-toggleable__label {background-color: #d4ebff;}#sk-container-id-1 input.sk-hidden--visually {border: 0;clip: rect(1px 1px 1px 1px);clip: rect(1px, 1px, 1px, 1px);height: 1px;margin: -1px;overflow: hidden;padding: 0;position: absolute;width: 1px;}#sk-container-id-1 div.sk-estimator {font-family: monospace;background-color: #f0f8ff;border: 1px dotted black;border-radius: 0.25em;box-sizing: border-box;margin-bottom: 0.5em;}#sk-container-id-1 div.sk-estimator:hover {background-color: #d4ebff;}#sk-container-id-1 div.sk-parallel-item::after {content: \"\";width: 100%;border-bottom: 1px solid gray;flex-grow: 1;}#sk-container-id-1 div.sk-label:hover label.sk-toggleable__label {background-color: #d4ebff;}#sk-container-id-1 div.sk-serial::before {content: \"\";position: absolute;border-left: 1px solid gray;box-sizing: border-box;top: 0;bottom: 0;left: 50%;z-index: 0;}#sk-container-id-1 div.sk-serial {display: flex;flex-direction: column;align-items: center;background-color: white;padding-right: 0.2em;padding-left: 0.2em;position: relative;}#sk-container-id-1 div.sk-item {position: relative;z-index: 1;}#sk-container-id-1 div.sk-parallel {display: flex;align-items: stretch;justify-content: center;background-color: white;position: relative;}#sk-container-id-1 div.sk-item::before, #sk-container-id-1 div.sk-parallel-item::before {content: \"\";position: absolute;border-left: 1px solid gray;box-sizing: border-box;top: 0;bottom: 0;left: 50%;z-index: -1;}#sk-container-id-1 div.sk-parallel-item {display: flex;flex-direction: column;z-index: 1;position: relative;background-color: white;}#sk-container-id-1 div.sk-parallel-item:first-child::after {align-self: flex-end;width: 50%;}#sk-container-id-1 div.sk-parallel-item:last-child::after {align-self: flex-start;width: 50%;}#sk-container-id-1 div.sk-parallel-item:only-child::after {width: 0;}#sk-container-id-1 div.sk-dashed-wrapped {border: 1px dashed gray;margin: 0 0.4em 0.5em 0.4em;box-sizing: border-box;padding-bottom: 0.4em;background-color: white;}#sk-container-id-1 div.sk-label label {font-family: monospace;font-weight: bold;display: inline-block;line-height: 1.2em;}#sk-container-id-1 div.sk-label-container {text-align: center;}#sk-container-id-1 div.sk-container {/* jupyter's `normalize.less` sets `[hidden] { display: none; }` but bootstrap.min.css set `[hidden] { display: none !important; }` so we also need the `!important` here to be able to override the default hidden behavior on the sphinx rendered scikit-learn.org. See: https://github.com/scikit-learn/scikit-learn/issues/21755 */display: inline-block !important;position: relative;}#sk-container-id-1 div.sk-text-repr-fallback {display: none;}</style><div id=\"sk-container-id-1\" class=\"sk-top-container\"><div class=\"sk-text-repr-fallback\"><pre>GridSearchCV(cv=5, estimator=SVR(),\n",
       "             param_grid=[{&#x27;C&#x27;: [0.1, 1, 10], &#x27;kernel&#x27;: [&#x27;linear&#x27;]},\n",
       "                         {&#x27;C&#x27;: [0.1, 1, 10], &#x27;gamma&#x27;: [0.01, 0.1, 1],\n",
       "                          &#x27;kernel&#x27;: [&#x27;rbf&#x27;]}],\n",
       "             scoring=&#x27;neg_mean_squared_error&#x27;)</pre><b>In a Jupyter environment, please rerun this cell to show the HTML representation or trust the notebook. <br />On GitHub, the HTML representation is unable to render, please try loading this page with nbviewer.org.</b></div><div class=\"sk-container\" hidden><div class=\"sk-item sk-dashed-wrapped\"><div class=\"sk-label-container\"><div class=\"sk-label sk-toggleable\"><input class=\"sk-toggleable__control sk-hidden--visually\" id=\"sk-estimator-id-1\" type=\"checkbox\" ><label for=\"sk-estimator-id-1\" class=\"sk-toggleable__label sk-toggleable__label-arrow\">GridSearchCV</label><div class=\"sk-toggleable__content\"><pre>GridSearchCV(cv=5, estimator=SVR(),\n",
       "             param_grid=[{&#x27;C&#x27;: [0.1, 1, 10], &#x27;kernel&#x27;: [&#x27;linear&#x27;]},\n",
       "                         {&#x27;C&#x27;: [0.1, 1, 10], &#x27;gamma&#x27;: [0.01, 0.1, 1],\n",
       "                          &#x27;kernel&#x27;: [&#x27;rbf&#x27;]}],\n",
       "             scoring=&#x27;neg_mean_squared_error&#x27;)</pre></div></div></div><div class=\"sk-parallel\"><div class=\"sk-parallel-item\"><div class=\"sk-item\"><div class=\"sk-label-container\"><div class=\"sk-label sk-toggleable\"><input class=\"sk-toggleable__control sk-hidden--visually\" id=\"sk-estimator-id-2\" type=\"checkbox\" ><label for=\"sk-estimator-id-2\" class=\"sk-toggleable__label sk-toggleable__label-arrow\">estimator: SVR</label><div class=\"sk-toggleable__content\"><pre>SVR()</pre></div></div></div><div class=\"sk-serial\"><div class=\"sk-item\"><div class=\"sk-estimator sk-toggleable\"><input class=\"sk-toggleable__control sk-hidden--visually\" id=\"sk-estimator-id-3\" type=\"checkbox\" ><label for=\"sk-estimator-id-3\" class=\"sk-toggleable__label sk-toggleable__label-arrow\">SVR</label><div class=\"sk-toggleable__content\"><pre>SVR()</pre></div></div></div></div></div></div></div></div></div></div>"
      ],
      "text/plain": [
       "GridSearchCV(cv=5, estimator=SVR(),\n",
       "             param_grid=[{'C': [0.1, 1, 10], 'kernel': ['linear']},\n",
       "                         {'C': [0.1, 1, 10], 'gamma': [0.01, 0.1, 1],\n",
       "                          'kernel': ['rbf']}],\n",
       "             scoring='neg_mean_squared_error')"
      ]
     },
     "execution_count": 61,
     "metadata": {},
     "output_type": "execute_result"
    }
   ],
   "source": [
    "# param_grid is a list of dictionaries where the keys are parameter names\n",
    "# and the values are list of parameter settings to try\n",
    "\n",
    "param_grid = [\n",
    "    {\"kernel\": [\"linear\"], \"C\": [0.1, 1, 10]},\n",
    "    {\"kernel\": [\"rbf\"], \"C\": [0.1, 1, 10], \"gamma\": [0.01, 0.1, 1]},\n",
    "]\n",
    "\n",
    "svr = SVR()\n",
    "grid_search = GridSearchCV(svr, param_grid, scoring=\"neg_mean_squared_error\", cv=5)\n",
    "grid_search.fit(X_preprocessed, y)"
   ]
  },
  {
   "cell_type": "code",
   "execution_count": 72,
   "id": "e8f76a0f-990d-42df-8f46-f5fc1d56b273",
   "metadata": {},
   "outputs": [
    {
     "name": "stdout",
     "output_type": "stream",
     "text": [
      "118258.82\t{'C': 0.1, 'kernel': 'linear'}\n",
      "112571.06\t{'C': 1, 'kernel': 'linear'}\n",
      "84649.61\t{'C': 10, 'kernel': 'linear'}\n",
      "118926.92\t{'C': 0.1, 'gamma': 0.01, 'kernel': 'rbf'}\n",
      "118906.44\t{'C': 0.1, 'gamma': 0.1, 'kernel': 'rbf'}\n",
      "118935.65\t{'C': 0.1, 'gamma': 1, 'kernel': 'rbf'}\n",
      "118819.34\t{'C': 1, 'gamma': 0.01, 'kernel': 'rbf'}\n",
      "118643.67\t{'C': 1, 'gamma': 0.1, 'kernel': 'rbf'}\n",
      "118898.89\t{'C': 1, 'gamma': 1, 'kernel': 'rbf'}\n",
      "117862.26\t{'C': 10, 'gamma': 0.01, 'kernel': 'rbf'}\n",
      "116181.25\t{'C': 10, 'gamma': 0.1, 'kernel': 'rbf'}\n",
      "118591.65\t{'C': 10, 'gamma': 1, 'kernel': 'rbf'}\n"
     ]
    }
   ],
   "source": [
    "cvres = grid_search.cv_results_\n",
    "for mean_score, params in zip(cvres[\"mean_test_score\"], cvres[\"params\"]):\n",
    "    print(f\"{np.sqrt(-mean_score):.2f}\\t{params}\")"
   ]
  },
  {
   "cell_type": "code",
   "execution_count": 78,
   "id": "b0d18fe9-ecb1-4e98-90d5-8fc81a72c482",
   "metadata": {},
   "outputs": [
    {
     "name": "stdout",
     "output_type": "stream",
     "text": [
      "Best parameters: {'C': 10, 'kernel': 'linear'}\n",
      "Best estimator:\t SVR(C=10, kernel='linear')\n",
      "Best score:\t 84649.6069847477\n"
     ]
    }
   ],
   "source": [
    "print(f\"Best parameters: {grid_search.best_params_}\")\n",
    "print(f\"Best estimator:\\t {grid_search.best_estimator_}\")\n",
    "print(f\"Best score:\\t {np.sqrt(-grid_search.best_score_)}\")"
   ]
  },
  {
   "cell_type": "markdown",
   "id": "f38c5223-c6bb-42c8-b961-f2ea513e7832",
   "metadata": {},
   "source": [
    "There are a few things to note here:\n",
    "- The best estimator found uses a linear kernel\n",
    "- The best estimator has `'C':10` (this is highest value provided for grid search)\n",
    "- The best estimator has a score worse than the RandomForestRegressor"
   ]
  },
  {
   "cell_type": "markdown",
   "id": "bc4b1fb3-e70b-4974-8a36-ecaf1bce179e",
   "metadata": {},
   "source": [
    "## Question 2\n",
    "\n",
    "Try replacing `GridSearchCV` with `RandomizedSearchCV`."
   ]
  },
  {
   "cell_type": "code",
   "execution_count": 82,
   "id": "52189853-b2ac-4e64-9391-df202acc1313",
   "metadata": {},
   "outputs": [
    {
     "name": "stdout",
     "output_type": "stream",
     "text": [
      "Fitting 3 folds for each of 10 candidates, totalling 30 fits\n",
      "[CV 1/3] END svr__C=314.891164795686, svr__kernel=linear;, score=-73463.527 total time=   0.6s\n",
      "[CV 2/3] END svr__C=314.891164795686, svr__kernel=linear;, score=-68280.018 total time=   0.6s\n",
      "[CV 3/3] END svr__C=314.891164795686, svr__kernel=linear;, score=-65332.015 total time=   0.6s\n",
      "[CV 1/3] END svr__C=63512.21010640709, svr__kernel=linear;, score=-71988.026 total time=   1.4s\n",
      "[CV 2/3] END svr__C=63512.21010640709, svr__kernel=linear;, score=-66340.143 total time=   1.3s\n",
      "[CV 3/3] END svr__C=63512.21010640709, svr__kernel=linear;, score=-64331.951 total time=   1.6s\n",
      "[CV 1/3] END svr__C=8471.801418819978, svr__kernel=linear;, score=-72056.595 total time=   0.7s\n",
      "[CV 2/3] END svr__C=8471.801418819978, svr__kernel=linear;, score=-66567.772 total time=   0.7s\n",
      "[CV 3/3] END svr__C=8471.801418819978, svr__kernel=linear;, score=-64348.120 total time=   0.8s\n",
      "[CV 1/3] END svr__C=2481.0409748678126, svr__kernel=linear;, score=-72223.436 total time=   0.6s\n",
      "[CV 2/3] END svr__C=2481.0409748678126, svr__kernel=linear;, score=-66739.444 total time=   0.6s\n",
      "[CV 3/3] END svr__C=2481.0409748678126, svr__kernel=linear;, score=-64480.971 total time=   0.6s\n",
      "[CV 1/3] END svr__C=42.079886696066374, svr__kernel=linear;, score=-82903.380 total time=   0.6s\n",
      "[CV 2/3] END svr__C=42.079886696066374, svr__kernel=linear;, score=-80382.693 total time=   0.6s\n",
      "[CV 3/3] END svr__C=42.079886696066374, svr__kernel=linear;, score=-75401.213 total time=   0.6s\n",
      "[CV 1/3] END svr__C=42.070539502879384, svr__kernel=linear;, score=-82905.962 total time=   0.6s\n",
      "[CV 2/3] END svr__C=42.070539502879384, svr__kernel=linear;, score=-80382.801 total time=   0.6s\n",
      "[CV 3/3] END svr__C=42.070539502879384, svr__kernel=linear;, score=-75403.269 total time=   0.6s\n",
      "[CV 1/3] END svr__C=17.073967431528125, svr__kernel=linear;, score=-95496.184 total time=   0.6s\n",
      "[CV 2/3] END svr__C=17.073967431528125, svr__kernel=linear;, score=-97040.405 total time=   0.6s\n",
      "[CV 3/3] END svr__C=17.073967431528125, svr__kernel=linear;, score=-89467.979 total time=   0.6s\n",
      "[CV 1/3] END svr__C=29154.43189153752, svr__kernel=linear;, score=-72009.939 total time=   1.0s\n",
      "[CV 2/3] END svr__C=29154.43189153752, svr__kernel=linear;, score=-66412.338 total time=   0.9s\n",
      "[CV 3/3] END svr__C=29154.43189153752, svr__kernel=linear;, score=-64333.166 total time=   1.0s\n",
      "[CV 1/3] END svr__C=2537.8155082656654, svr__kernel=linear;, score=-72217.515 total time=   0.6s\n",
      "[CV 2/3] END svr__C=2537.8155082656654, svr__kernel=linear;, score=-66735.463 total time=   0.6s\n",
      "[CV 3/3] END svr__C=2537.8155082656654, svr__kernel=linear;, score=-64476.314 total time=   0.6s\n",
      "[CV 1/3] END svr__C=6796.578090758159, svr__kernel=linear;, score=-72065.983 total time=   0.7s\n",
      "[CV 2/3] END svr__C=6796.578090758159, svr__kernel=linear;, score=-66579.783 total time=   0.7s\n",
      "[CV 3/3] END svr__C=6796.578090758159, svr__kernel=linear;, score=-64351.806 total time=   0.7s\n"
     ]
    },
    {
     "data": {
      "text/html": [
       "<style>#sk-container-id-3 {color: black;}#sk-container-id-3 pre{padding: 0;}#sk-container-id-3 div.sk-toggleable {background-color: white;}#sk-container-id-3 label.sk-toggleable__label {cursor: pointer;display: block;width: 100%;margin-bottom: 0;padding: 0.3em;box-sizing: border-box;text-align: center;}#sk-container-id-3 label.sk-toggleable__label-arrow:before {content: \"▸\";float: left;margin-right: 0.25em;color: #696969;}#sk-container-id-3 label.sk-toggleable__label-arrow:hover:before {color: black;}#sk-container-id-3 div.sk-estimator:hover label.sk-toggleable__label-arrow:before {color: black;}#sk-container-id-3 div.sk-toggleable__content {max-height: 0;max-width: 0;overflow: hidden;text-align: left;background-color: #f0f8ff;}#sk-container-id-3 div.sk-toggleable__content pre {margin: 0.2em;color: black;border-radius: 0.25em;background-color: #f0f8ff;}#sk-container-id-3 input.sk-toggleable__control:checked~div.sk-toggleable__content {max-height: 200px;max-width: 100%;overflow: auto;}#sk-container-id-3 input.sk-toggleable__control:checked~label.sk-toggleable__label-arrow:before {content: \"▾\";}#sk-container-id-3 div.sk-estimator input.sk-toggleable__control:checked~label.sk-toggleable__label {background-color: #d4ebff;}#sk-container-id-3 div.sk-label input.sk-toggleable__control:checked~label.sk-toggleable__label {background-color: #d4ebff;}#sk-container-id-3 input.sk-hidden--visually {border: 0;clip: rect(1px 1px 1px 1px);clip: rect(1px, 1px, 1px, 1px);height: 1px;margin: -1px;overflow: hidden;padding: 0;position: absolute;width: 1px;}#sk-container-id-3 div.sk-estimator {font-family: monospace;background-color: #f0f8ff;border: 1px dotted black;border-radius: 0.25em;box-sizing: border-box;margin-bottom: 0.5em;}#sk-container-id-3 div.sk-estimator:hover {background-color: #d4ebff;}#sk-container-id-3 div.sk-parallel-item::after {content: \"\";width: 100%;border-bottom: 1px solid gray;flex-grow: 1;}#sk-container-id-3 div.sk-label:hover label.sk-toggleable__label {background-color: #d4ebff;}#sk-container-id-3 div.sk-serial::before {content: \"\";position: absolute;border-left: 1px solid gray;box-sizing: border-box;top: 0;bottom: 0;left: 50%;z-index: 0;}#sk-container-id-3 div.sk-serial {display: flex;flex-direction: column;align-items: center;background-color: white;padding-right: 0.2em;padding-left: 0.2em;position: relative;}#sk-container-id-3 div.sk-item {position: relative;z-index: 1;}#sk-container-id-3 div.sk-parallel {display: flex;align-items: stretch;justify-content: center;background-color: white;position: relative;}#sk-container-id-3 div.sk-item::before, #sk-container-id-3 div.sk-parallel-item::before {content: \"\";position: absolute;border-left: 1px solid gray;box-sizing: border-box;top: 0;bottom: 0;left: 50%;z-index: -1;}#sk-container-id-3 div.sk-parallel-item {display: flex;flex-direction: column;z-index: 1;position: relative;background-color: white;}#sk-container-id-3 div.sk-parallel-item:first-child::after {align-self: flex-end;width: 50%;}#sk-container-id-3 div.sk-parallel-item:last-child::after {align-self: flex-start;width: 50%;}#sk-container-id-3 div.sk-parallel-item:only-child::after {width: 0;}#sk-container-id-3 div.sk-dashed-wrapped {border: 1px dashed gray;margin: 0 0.4em 0.5em 0.4em;box-sizing: border-box;padding-bottom: 0.4em;background-color: white;}#sk-container-id-3 div.sk-label label {font-family: monospace;font-weight: bold;display: inline-block;line-height: 1.2em;}#sk-container-id-3 div.sk-label-container {text-align: center;}#sk-container-id-3 div.sk-container {/* jupyter's `normalize.less` sets `[hidden] { display: none; }` but bootstrap.min.css set `[hidden] { display: none !important; }` so we also need the `!important` here to be able to override the default hidden behavior on the sphinx rendered scikit-learn.org. See: https://github.com/scikit-learn/scikit-learn/issues/21755 */display: inline-block !important;position: relative;}#sk-container-id-3 div.sk-text-repr-fallback {display: none;}</style><div id=\"sk-container-id-3\" class=\"sk-top-container\"><div class=\"sk-text-repr-fallback\"><pre>RandomizedSearchCV(cv=3,\n",
       "                   estimator=Pipeline(steps=[(&#x27;preprocessing&#x27;,\n",
       "                                              FeatureUnion(transformer_list=[(&#x27;numerical_pipeline&#x27;,\n",
       "                                                                              Pipeline(steps=[(&#x27;selector&#x27;,\n",
       "                                                                                               DataFrameSelector(attribute_names=[&#x27;longitude&#x27;,\n",
       "                                                                                                                                  &#x27;latitude&#x27;,\n",
       "                                                                                                                                  &#x27;housing_median_age&#x27;,\n",
       "                                                                                                                                  &#x27;total_rooms&#x27;,\n",
       "                                                                                                                                  &#x27;total_bedrooms&#x27;,\n",
       "                                                                                                                                  &#x27;population&#x27;,\n",
       "                                                                                                                                  &#x27;households&#x27;,\n",
       "                                                                                                                                  &#x27;median_income&#x27;])),\n",
       "                                                                                              (&#x27;imputer&#x27;,\n",
       "                                                                                               SimpleImputer(strategy=&#x27;median&#x27;)),\n",
       "                                                                                              (&#x27;...\n",
       "                                                                             (&#x27;categorical_pipeline&#x27;,\n",
       "                                                                              Pipeline(steps=[(&#x27;selector&#x27;,\n",
       "                                                                                               DataFrameSelector(attribute_names=[&#x27;ocean_proximity&#x27;])),\n",
       "                                                                                              (&#x27;label_binarizer&#x27;,\n",
       "                                                                                               MyLabelBinarizer())]))])),\n",
       "                                             (&#x27;svr&#x27;, SVR())]),\n",
       "                   param_distributions={&#x27;svr__C&#x27;: &lt;scipy.stats._distn_infrastructure.rv_continuous_frozen object at 0x78aeb93def90&gt;,\n",
       "                                        &#x27;svr__kernel&#x27;: [&#x27;linear&#x27;]},\n",
       "                   random_state=42, scoring=&#x27;neg_root_mean_squared_error&#x27;,\n",
       "                   verbose=3)</pre><b>In a Jupyter environment, please rerun this cell to show the HTML representation or trust the notebook. <br />On GitHub, the HTML representation is unable to render, please try loading this page with nbviewer.org.</b></div><div class=\"sk-container\" hidden><div class=\"sk-item sk-dashed-wrapped\"><div class=\"sk-label-container\"><div class=\"sk-label sk-toggleable\"><input class=\"sk-toggleable__control sk-hidden--visually\" id=\"sk-estimator-id-5\" type=\"checkbox\" ><label for=\"sk-estimator-id-5\" class=\"sk-toggleable__label sk-toggleable__label-arrow\">RandomizedSearchCV</label><div class=\"sk-toggleable__content\"><pre>RandomizedSearchCV(cv=3,\n",
       "                   estimator=Pipeline(steps=[(&#x27;preprocessing&#x27;,\n",
       "                                              FeatureUnion(transformer_list=[(&#x27;numerical_pipeline&#x27;,\n",
       "                                                                              Pipeline(steps=[(&#x27;selector&#x27;,\n",
       "                                                                                               DataFrameSelector(attribute_names=[&#x27;longitude&#x27;,\n",
       "                                                                                                                                  &#x27;latitude&#x27;,\n",
       "                                                                                                                                  &#x27;housing_median_age&#x27;,\n",
       "                                                                                                                                  &#x27;total_rooms&#x27;,\n",
       "                                                                                                                                  &#x27;total_bedrooms&#x27;,\n",
       "                                                                                                                                  &#x27;population&#x27;,\n",
       "                                                                                                                                  &#x27;households&#x27;,\n",
       "                                                                                                                                  &#x27;median_income&#x27;])),\n",
       "                                                                                              (&#x27;imputer&#x27;,\n",
       "                                                                                               SimpleImputer(strategy=&#x27;median&#x27;)),\n",
       "                                                                                              (&#x27;...\n",
       "                                                                             (&#x27;categorical_pipeline&#x27;,\n",
       "                                                                              Pipeline(steps=[(&#x27;selector&#x27;,\n",
       "                                                                                               DataFrameSelector(attribute_names=[&#x27;ocean_proximity&#x27;])),\n",
       "                                                                                              (&#x27;label_binarizer&#x27;,\n",
       "                                                                                               MyLabelBinarizer())]))])),\n",
       "                                             (&#x27;svr&#x27;, SVR())]),\n",
       "                   param_distributions={&#x27;svr__C&#x27;: &lt;scipy.stats._distn_infrastructure.rv_continuous_frozen object at 0x78aeb93def90&gt;,\n",
       "                                        &#x27;svr__kernel&#x27;: [&#x27;linear&#x27;]},\n",
       "                   random_state=42, scoring=&#x27;neg_root_mean_squared_error&#x27;,\n",
       "                   verbose=3)</pre></div></div></div><div class=\"sk-parallel\"><div class=\"sk-parallel-item\"><div class=\"sk-item\"><div class=\"sk-label-container\"><div class=\"sk-label sk-toggleable\"><input class=\"sk-toggleable__control sk-hidden--visually\" id=\"sk-estimator-id-6\" type=\"checkbox\" ><label for=\"sk-estimator-id-6\" class=\"sk-toggleable__label sk-toggleable__label-arrow\">estimator: Pipeline</label><div class=\"sk-toggleable__content\"><pre>Pipeline(steps=[(&#x27;preprocessing&#x27;,\n",
       "                 FeatureUnion(transformer_list=[(&#x27;numerical_pipeline&#x27;,\n",
       "                                                 Pipeline(steps=[(&#x27;selector&#x27;,\n",
       "                                                                  DataFrameSelector(attribute_names=[&#x27;longitude&#x27;,\n",
       "                                                                                                     &#x27;latitude&#x27;,\n",
       "                                                                                                     &#x27;housing_median_age&#x27;,\n",
       "                                                                                                     &#x27;total_rooms&#x27;,\n",
       "                                                                                                     &#x27;total_bedrooms&#x27;,\n",
       "                                                                                                     &#x27;population&#x27;,\n",
       "                                                                                                     &#x27;households&#x27;,\n",
       "                                                                                                     &#x27;median_income&#x27;])),\n",
       "                                                                 (&#x27;imputer&#x27;,\n",
       "                                                                  SimpleImputer(strategy=&#x27;median&#x27;)),\n",
       "                                                                 (&#x27;attr_adder&#x27;,\n",
       "                                                                  CombinedAttributesAdder()),\n",
       "                                                                 (&#x27;std_scaler&#x27;,\n",
       "                                                                  StandardScaler())])),\n",
       "                                                (&#x27;categorical_pipeline&#x27;,\n",
       "                                                 Pipeline(steps=[(&#x27;selector&#x27;,\n",
       "                                                                  DataFrameSelector(attribute_names=[&#x27;ocean_proximity&#x27;])),\n",
       "                                                                 (&#x27;label_binarizer&#x27;,\n",
       "                                                                  MyLabelBinarizer())]))])),\n",
       "                (&#x27;svr&#x27;, SVR())])</pre></div></div></div><div class=\"sk-serial\"><div class=\"sk-item\"><div class=\"sk-serial\"><div class=\"sk-item sk-dashed-wrapped\"><div class=\"sk-label-container\"><div class=\"sk-label sk-toggleable\"><input class=\"sk-toggleable__control sk-hidden--visually\" id=\"sk-estimator-id-7\" type=\"checkbox\" ><label for=\"sk-estimator-id-7\" class=\"sk-toggleable__label sk-toggleable__label-arrow\">preprocessing: FeatureUnion</label><div class=\"sk-toggleable__content\"><pre>FeatureUnion(transformer_list=[(&#x27;numerical_pipeline&#x27;,\n",
       "                                Pipeline(steps=[(&#x27;selector&#x27;,\n",
       "                                                 DataFrameSelector(attribute_names=[&#x27;longitude&#x27;,\n",
       "                                                                                    &#x27;latitude&#x27;,\n",
       "                                                                                    &#x27;housing_median_age&#x27;,\n",
       "                                                                                    &#x27;total_rooms&#x27;,\n",
       "                                                                                    &#x27;total_bedrooms&#x27;,\n",
       "                                                                                    &#x27;population&#x27;,\n",
       "                                                                                    &#x27;households&#x27;,\n",
       "                                                                                    &#x27;median_income&#x27;])),\n",
       "                                                (&#x27;imputer&#x27;,\n",
       "                                                 SimpleImputer(strategy=&#x27;median&#x27;)),\n",
       "                                                (&#x27;attr_adder&#x27;,\n",
       "                                                 CombinedAttributesAdder()),\n",
       "                                                (&#x27;std_scaler&#x27;,\n",
       "                                                 StandardScaler())])),\n",
       "                               (&#x27;categorical_pipeline&#x27;,\n",
       "                                Pipeline(steps=[(&#x27;selector&#x27;,\n",
       "                                                 DataFrameSelector(attribute_names=[&#x27;ocean_proximity&#x27;])),\n",
       "                                                (&#x27;label_binarizer&#x27;,\n",
       "                                                 MyLabelBinarizer())]))])</pre></div></div></div><div class=\"sk-parallel\"><div class=\"sk-parallel-item\"><div class=\"sk-item\"><div class=\"sk-label-container\"><div class=\"sk-label sk-toggleable\"><label>numerical_pipeline</label></div></div><div class=\"sk-serial\"><div class=\"sk-item\"><div class=\"sk-serial\"><div class=\"sk-item\"><div class=\"sk-estimator sk-toggleable\"><input class=\"sk-toggleable__control sk-hidden--visually\" id=\"sk-estimator-id-8\" type=\"checkbox\" ><label for=\"sk-estimator-id-8\" class=\"sk-toggleable__label sk-toggleable__label-arrow\">DataFrameSelector</label><div class=\"sk-toggleable__content\"><pre>DataFrameSelector(attribute_names=[&#x27;longitude&#x27;, &#x27;latitude&#x27;,\n",
       "                                   &#x27;housing_median_age&#x27;, &#x27;total_rooms&#x27;,\n",
       "                                   &#x27;total_bedrooms&#x27;, &#x27;population&#x27;, &#x27;households&#x27;,\n",
       "                                   &#x27;median_income&#x27;])</pre></div></div></div><div class=\"sk-item\"><div class=\"sk-estimator sk-toggleable\"><input class=\"sk-toggleable__control sk-hidden--visually\" id=\"sk-estimator-id-9\" type=\"checkbox\" ><label for=\"sk-estimator-id-9\" class=\"sk-toggleable__label sk-toggleable__label-arrow\">SimpleImputer</label><div class=\"sk-toggleable__content\"><pre>SimpleImputer(strategy=&#x27;median&#x27;)</pre></div></div></div><div class=\"sk-item\"><div class=\"sk-estimator sk-toggleable\"><input class=\"sk-toggleable__control sk-hidden--visually\" id=\"sk-estimator-id-10\" type=\"checkbox\" ><label for=\"sk-estimator-id-10\" class=\"sk-toggleable__label sk-toggleable__label-arrow\">CombinedAttributesAdder</label><div class=\"sk-toggleable__content\"><pre>CombinedAttributesAdder()</pre></div></div></div><div class=\"sk-item\"><div class=\"sk-estimator sk-toggleable\"><input class=\"sk-toggleable__control sk-hidden--visually\" id=\"sk-estimator-id-11\" type=\"checkbox\" ><label for=\"sk-estimator-id-11\" class=\"sk-toggleable__label sk-toggleable__label-arrow\">StandardScaler</label><div class=\"sk-toggleable__content\"><pre>StandardScaler()</pre></div></div></div></div></div></div></div></div><div class=\"sk-parallel-item\"><div class=\"sk-item\"><div class=\"sk-label-container\"><div class=\"sk-label sk-toggleable\"><label>categorical_pipeline</label></div></div><div class=\"sk-serial\"><div class=\"sk-item\"><div class=\"sk-serial\"><div class=\"sk-item\"><div class=\"sk-estimator sk-toggleable\"><input class=\"sk-toggleable__control sk-hidden--visually\" id=\"sk-estimator-id-12\" type=\"checkbox\" ><label for=\"sk-estimator-id-12\" class=\"sk-toggleable__label sk-toggleable__label-arrow\">DataFrameSelector</label><div class=\"sk-toggleable__content\"><pre>DataFrameSelector(attribute_names=[&#x27;ocean_proximity&#x27;])</pre></div></div></div><div class=\"sk-item\"><div class=\"sk-estimator sk-toggleable\"><input class=\"sk-toggleable__control sk-hidden--visually\" id=\"sk-estimator-id-13\" type=\"checkbox\" ><label for=\"sk-estimator-id-13\" class=\"sk-toggleable__label sk-toggleable__label-arrow\">MyLabelBinarizer</label><div class=\"sk-toggleable__content\"><pre>MyLabelBinarizer()</pre></div></div></div></div></div></div></div></div></div></div><div class=\"sk-item\"><div class=\"sk-estimator sk-toggleable\"><input class=\"sk-toggleable__control sk-hidden--visually\" id=\"sk-estimator-id-14\" type=\"checkbox\" ><label for=\"sk-estimator-id-14\" class=\"sk-toggleable__label sk-toggleable__label-arrow\">SVR</label><div class=\"sk-toggleable__content\"><pre>SVR()</pre></div></div></div></div></div></div></div></div></div></div></div></div>"
      ],
      "text/plain": [
       "RandomizedSearchCV(cv=3,\n",
       "                   estimator=Pipeline(steps=[('preprocessing',\n",
       "                                              FeatureUnion(transformer_list=[('numerical_pipeline',\n",
       "                                                                              Pipeline(steps=[('selector',\n",
       "                                                                                               DataFrameSelector(attribute_names=['longitude',\n",
       "                                                                                                                                  'latitude',\n",
       "                                                                                                                                  'housing_median_age',\n",
       "                                                                                                                                  'total_rooms',\n",
       "                                                                                                                                  'total_bedrooms',\n",
       "                                                                                                                                  'population',\n",
       "                                                                                                                                  'households',\n",
       "                                                                                                                                  'median_income'])),\n",
       "                                                                                              ('imputer',\n",
       "                                                                                               SimpleImputer(strategy='median')),\n",
       "                                                                                              ('...\n",
       "                                                                             ('categorical_pipeline',\n",
       "                                                                              Pipeline(steps=[('selector',\n",
       "                                                                                               DataFrameSelector(attribute_names=['ocean_proximity'])),\n",
       "                                                                                              ('label_binarizer',\n",
       "                                                                                               MyLabelBinarizer())]))])),\n",
       "                                             ('svr', SVR())]),\n",
       "                   param_distributions={'svr__C': <scipy.stats._distn_infrastructure.rv_continuous_frozen object at 0x78aeb93def90>,\n",
       "                                        'svr__kernel': ['linear']},\n",
       "                   random_state=42, scoring='neg_root_mean_squared_error',\n",
       "                   verbose=3)"
      ]
     },
     "execution_count": 82,
     "metadata": {},
     "output_type": "execute_result"
    }
   ],
   "source": [
    "param_distribs = {\n",
    "    \"svr__kernel\": [\"linear\"],\n",
    "    \"svr__C\": loguniform(10, 100000),\n",
    "}\n",
    "\n",
    "svr_pipeline = Pipeline([\n",
    "    (\"preprocessing\", preprocessing_pipeline),\n",
    "    (\"svr\", SVR()),\n",
    "])\n",
    "\n",
    "randomized_search = RandomizedSearchCV(svr_pipeline, param_distribs, n_iter=10, cv=3,\n",
    "                                       scoring=\"neg_root_mean_squared_error\", random_state=42, verbose=3)\n",
    "randomized_search.fit(X.iloc[:5000], y.iloc[:5000])"
   ]
  },
  {
   "cell_type": "code",
   "execution_count": 85,
   "id": "ee0407b9-7f14-457c-a213-47d9ae154403",
   "metadata": {},
   "outputs": [
    {
     "name": "stdout",
     "output_type": "stream",
     "text": [
      "Best parameters: {'svr__C': 63512.21010640709, 'svr__kernel': 'linear'}\n",
      "Best estimator:\t SVR(C=63512.21010640709, kernel='linear')\n",
      "Best score:\t 67553.37339378493\n"
     ]
    }
   ],
   "source": [
    "print(f\"Best parameters: {randomized_search.best_params_}\")\n",
    "print(f\"Best estimator:\\t {randomized_search.best_estimator_.named_steps[\"svr\"]}\")\n",
    "print(f\"Best score:\\t {-randomized_search.best_score_}\")"
   ]
  },
  {
   "cell_type": "markdown",
   "id": "52f0c1d8-67f4-4eaf-ac25-e0215a58c8d2",
   "metadata": {},
   "source": [
    "## Question 3\n",
    "\n",
    "Try adding a transformer in the preparation pipeline to select only the most important attributes."
   ]
  },
  {
   "cell_type": "code",
   "execution_count": 92,
   "id": "dbaa2888-e6fa-4eb4-82f8-bb3b5c24335f",
   "metadata": {},
   "outputs": [],
   "source": [
    "# SVR does not have feature_importances_ so we need to use RandomForestRegressor\n",
    "# in order to select the most important features\n",
    "\n",
    "selector_pipeline = Pipeline([\n",
    "    (\"preprocessing\", preprocessing_pipeline),\n",
    "    (\"feature_selector\", SelectFromModel(RandomForestRegressor(random_state=42), threshold=0.05)),\n",
    "    (\"svr\", SVR(kernel=randomized_search.best_params_[\"svr__kernel\"],\n",
    "                C=randomized_search.best_params_[\"svr__C\"])),\n",
    "])"
   ]
  },
  {
   "cell_type": "code",
   "execution_count": 94,
   "id": "f01f0ea3-c9f7-468b-bec6-ae818a03356c",
   "metadata": {},
   "outputs": [
    {
     "data": {
      "text/plain": [
       "array([75150.25844066, 70580.81387033, 67425.38607789])"
      ]
     },
     "execution_count": 94,
     "metadata": {},
     "output_type": "execute_result"
    }
   ],
   "source": [
    "selector_rmses = -cross_val_score(selector_pipeline, X.iloc[:5000], y.iloc[:5000],\n",
    "                                  scoring=\"neg_root_mean_squared_error\", cv=3)\n",
    "selector_rmses"
   ]
  },
  {
   "cell_type": "markdown",
   "id": "e9d83736-e3fb-435e-80c1-514598fcef3c",
   "metadata": {},
   "source": [
    "## Question 4\n",
    "\n",
    "Try creating a single pipeline that does the full data preparation plus the final prediction."
   ]
  },
  {
   "cell_type": "code",
   "execution_count": 109,
   "id": "f45b056e-500b-4c32-a965-1dcb134da018",
   "metadata": {},
   "outputs": [],
   "source": [
    "class Predictor(BaseEstimator, TransformerMixin):\n",
    "    def __init__(self, estimator,):\n",
    "        self.estimator = estimator\n",
    "\n",
    "    def fit(self, X, y=None):\n",
    "        estimator_ = clone(self.estimator)\n",
    "        estimator_.fit(X, y)\n",
    "        self.estimator = estimator_\n",
    "        return self\n",
    "\n",
    "    def transform(self, X, y=None):\n",
    "        predictions = self.estimator.predict(X)\n",
    "        if predictions.ndim == 1:\n",
    "            predictions = predictions.reshape(-1, 1)\n",
    "        return predictions"
   ]
  },
  {
   "cell_type": "code",
   "execution_count": 117,
   "id": "1b6791a2-628b-47e0-a2a5-29e3f7856b17",
   "metadata": {},
   "outputs": [],
   "source": [
    "X_test = strat_test_set.drop(\"median_house_value\", axis=1)\n",
    "y_test = strat_test_set[\"median_house_value\"].copy()\n",
    "\n",
    "best_kernel = randomized_search.best_params_[\"svr__kernel\"]\n",
    "best_C = randomized_search.best_params_[\"svr__C\"]\n",
    "\n",
    "prediction_pipeline = Pipeline([\n",
    "    (\"preprocessing\", preprocessing_pipeline),\n",
    "    (\"predictor\", Estimator(SVR(kernel=best_kernel, C=best_C))),\n",
    "])\n",
    "\n",
    "X_test_preprocessed = preprocessing_pipeline.fit_transform(X_test)\n",
    "\n",
    "prediction_pipeline.fit(X, y)\n",
    "predictions = prediction_pipeline.transform(X_test)"
   ]
  },
  {
   "cell_type": "code",
   "execution_count": 118,
   "id": "d90f8162-44c9-4bc1-ad91-ed77bb42a53e",
   "metadata": {},
   "outputs": [
    {
     "data": {
      "text/plain": [
       "68099.65770537412"
      ]
     },
     "execution_count": 118,
     "metadata": {},
     "output_type": "execute_result"
    }
   ],
   "source": [
    "mse = mean_squared_error(y_test, predictions)\n",
    "rmse = np.sqrt(mse)\n",
    "rmse"
   ]
  },
  {
   "cell_type": "markdown",
   "id": "4e97cba1-974e-4b4b-a568-9c2688412538",
   "metadata": {},
   "source": [
    "## Question 5\n",
    "\n",
    "Automatically explore some preparation options using `GridSearchCV`."
   ]
  },
  {
   "cell_type": "code",
   "execution_count": 119,
   "id": "c00090b0-89e9-4732-901d-df47237811f7",
   "metadata": {},
   "outputs": [
    {
     "name": "stdout",
     "output_type": "stream",
     "text": [
      "Fitting 3 folds for each of 2 candidates, totalling 6 fits\n",
      "[CV 1/3] END preprocessing__numerical_pipeline__attr_adder__add_bedrooms_per_room=False;, score=-69430.337 total time=  15.5s\n",
      "[CV 2/3] END preprocessing__numerical_pipeline__attr_adder__add_bedrooms_per_room=False;, score=-75573.967 total time=  15.5s\n",
      "[CV 3/3] END preprocessing__numerical_pipeline__attr_adder__add_bedrooms_per_room=False;, score=-70312.874 total time=  17.3s\n",
      "[CV 1/3] END preprocessing__numerical_pipeline__attr_adder__add_bedrooms_per_room=True;, score=-68822.813 total time=  17.0s\n",
      "[CV 2/3] END preprocessing__numerical_pipeline__attr_adder__add_bedrooms_per_room=True;, score=-83178.751 total time=  13.4s\n",
      "[CV 3/3] END preprocessing__numerical_pipeline__attr_adder__add_bedrooms_per_room=True;, score=-70906.752 total time=  14.9s\n"
     ]
    },
    {
     "data": {
      "text/html": [
       "<style>#sk-container-id-5 {color: black;}#sk-container-id-5 pre{padding: 0;}#sk-container-id-5 div.sk-toggleable {background-color: white;}#sk-container-id-5 label.sk-toggleable__label {cursor: pointer;display: block;width: 100%;margin-bottom: 0;padding: 0.3em;box-sizing: border-box;text-align: center;}#sk-container-id-5 label.sk-toggleable__label-arrow:before {content: \"▸\";float: left;margin-right: 0.25em;color: #696969;}#sk-container-id-5 label.sk-toggleable__label-arrow:hover:before {color: black;}#sk-container-id-5 div.sk-estimator:hover label.sk-toggleable__label-arrow:before {color: black;}#sk-container-id-5 div.sk-toggleable__content {max-height: 0;max-width: 0;overflow: hidden;text-align: left;background-color: #f0f8ff;}#sk-container-id-5 div.sk-toggleable__content pre {margin: 0.2em;color: black;border-radius: 0.25em;background-color: #f0f8ff;}#sk-container-id-5 input.sk-toggleable__control:checked~div.sk-toggleable__content {max-height: 200px;max-width: 100%;overflow: auto;}#sk-container-id-5 input.sk-toggleable__control:checked~label.sk-toggleable__label-arrow:before {content: \"▾\";}#sk-container-id-5 div.sk-estimator input.sk-toggleable__control:checked~label.sk-toggleable__label {background-color: #d4ebff;}#sk-container-id-5 div.sk-label input.sk-toggleable__control:checked~label.sk-toggleable__label {background-color: #d4ebff;}#sk-container-id-5 input.sk-hidden--visually {border: 0;clip: rect(1px 1px 1px 1px);clip: rect(1px, 1px, 1px, 1px);height: 1px;margin: -1px;overflow: hidden;padding: 0;position: absolute;width: 1px;}#sk-container-id-5 div.sk-estimator {font-family: monospace;background-color: #f0f8ff;border: 1px dotted black;border-radius: 0.25em;box-sizing: border-box;margin-bottom: 0.5em;}#sk-container-id-5 div.sk-estimator:hover {background-color: #d4ebff;}#sk-container-id-5 div.sk-parallel-item::after {content: \"\";width: 100%;border-bottom: 1px solid gray;flex-grow: 1;}#sk-container-id-5 div.sk-label:hover label.sk-toggleable__label {background-color: #d4ebff;}#sk-container-id-5 div.sk-serial::before {content: \"\";position: absolute;border-left: 1px solid gray;box-sizing: border-box;top: 0;bottom: 0;left: 50%;z-index: 0;}#sk-container-id-5 div.sk-serial {display: flex;flex-direction: column;align-items: center;background-color: white;padding-right: 0.2em;padding-left: 0.2em;position: relative;}#sk-container-id-5 div.sk-item {position: relative;z-index: 1;}#sk-container-id-5 div.sk-parallel {display: flex;align-items: stretch;justify-content: center;background-color: white;position: relative;}#sk-container-id-5 div.sk-item::before, #sk-container-id-5 div.sk-parallel-item::before {content: \"\";position: absolute;border-left: 1px solid gray;box-sizing: border-box;top: 0;bottom: 0;left: 50%;z-index: -1;}#sk-container-id-5 div.sk-parallel-item {display: flex;flex-direction: column;z-index: 1;position: relative;background-color: white;}#sk-container-id-5 div.sk-parallel-item:first-child::after {align-self: flex-end;width: 50%;}#sk-container-id-5 div.sk-parallel-item:last-child::after {align-self: flex-start;width: 50%;}#sk-container-id-5 div.sk-parallel-item:only-child::after {width: 0;}#sk-container-id-5 div.sk-dashed-wrapped {border: 1px dashed gray;margin: 0 0.4em 0.5em 0.4em;box-sizing: border-box;padding-bottom: 0.4em;background-color: white;}#sk-container-id-5 div.sk-label label {font-family: monospace;font-weight: bold;display: inline-block;line-height: 1.2em;}#sk-container-id-5 div.sk-label-container {text-align: center;}#sk-container-id-5 div.sk-container {/* jupyter's `normalize.less` sets `[hidden] { display: none; }` but bootstrap.min.css set `[hidden] { display: none !important; }` so we also need the `!important` here to be able to override the default hidden behavior on the sphinx rendered scikit-learn.org. See: https://github.com/scikit-learn/scikit-learn/issues/21755 */display: inline-block !important;position: relative;}#sk-container-id-5 div.sk-text-repr-fallback {display: none;}</style><div id=\"sk-container-id-5\" class=\"sk-top-container\"><div class=\"sk-text-repr-fallback\"><pre>GridSearchCV(cv=3,\n",
       "             estimator=Pipeline(steps=[(&#x27;preprocessing&#x27;,\n",
       "                                        FeatureUnion(transformer_list=[(&#x27;numerical_pipeline&#x27;,\n",
       "                                                                        Pipeline(steps=[(&#x27;selector&#x27;,\n",
       "                                                                                         DataFrameSelector(attribute_names=[&#x27;longitude&#x27;,\n",
       "                                                                                                                            &#x27;latitude&#x27;,\n",
       "                                                                                                                            &#x27;housing_median_age&#x27;,\n",
       "                                                                                                                            &#x27;total_rooms&#x27;,\n",
       "                                                                                                                            &#x27;total_bedrooms&#x27;,\n",
       "                                                                                                                            &#x27;population&#x27;,\n",
       "                                                                                                                            &#x27;households&#x27;,\n",
       "                                                                                                                            &#x27;median_income&#x27;])),\n",
       "                                                                                        (&#x27;imputer&#x27;,\n",
       "                                                                                         SimpleImputer(strategy=&#x27;median&#x27;)),\n",
       "                                                                                        (&#x27;attr_a...\n",
       "                                                                       (&#x27;categorical_pipeline&#x27;,\n",
       "                                                                        Pipeline(steps=[(&#x27;selector&#x27;,\n",
       "                                                                                         DataFrameSelector(attribute_names=[&#x27;ocean_proximity&#x27;])),\n",
       "                                                                                        (&#x27;label_binarizer&#x27;,\n",
       "                                                                                         MyLabelBinarizer())]))])),\n",
       "                                       (&#x27;svr&#x27;,\n",
       "                                        SVR(C=63512.21010640709,\n",
       "                                            kernel=&#x27;linear&#x27;))]),\n",
       "             param_grid=[{&#x27;preprocessing__numerical_pipeline__attr_adder__add_bedrooms_per_room&#x27;: [False,\n",
       "                                                                                                   True]}],\n",
       "             scoring=&#x27;neg_root_mean_squared_error&#x27;, verbose=3)</pre><b>In a Jupyter environment, please rerun this cell to show the HTML representation or trust the notebook. <br />On GitHub, the HTML representation is unable to render, please try loading this page with nbviewer.org.</b></div><div class=\"sk-container\" hidden><div class=\"sk-item sk-dashed-wrapped\"><div class=\"sk-label-container\"><div class=\"sk-label sk-toggleable\"><input class=\"sk-toggleable__control sk-hidden--visually\" id=\"sk-estimator-id-26\" type=\"checkbox\" ><label for=\"sk-estimator-id-26\" class=\"sk-toggleable__label sk-toggleable__label-arrow\">GridSearchCV</label><div class=\"sk-toggleable__content\"><pre>GridSearchCV(cv=3,\n",
       "             estimator=Pipeline(steps=[(&#x27;preprocessing&#x27;,\n",
       "                                        FeatureUnion(transformer_list=[(&#x27;numerical_pipeline&#x27;,\n",
       "                                                                        Pipeline(steps=[(&#x27;selector&#x27;,\n",
       "                                                                                         DataFrameSelector(attribute_names=[&#x27;longitude&#x27;,\n",
       "                                                                                                                            &#x27;latitude&#x27;,\n",
       "                                                                                                                            &#x27;housing_median_age&#x27;,\n",
       "                                                                                                                            &#x27;total_rooms&#x27;,\n",
       "                                                                                                                            &#x27;total_bedrooms&#x27;,\n",
       "                                                                                                                            &#x27;population&#x27;,\n",
       "                                                                                                                            &#x27;households&#x27;,\n",
       "                                                                                                                            &#x27;median_income&#x27;])),\n",
       "                                                                                        (&#x27;imputer&#x27;,\n",
       "                                                                                         SimpleImputer(strategy=&#x27;median&#x27;)),\n",
       "                                                                                        (&#x27;attr_a...\n",
       "                                                                       (&#x27;categorical_pipeline&#x27;,\n",
       "                                                                        Pipeline(steps=[(&#x27;selector&#x27;,\n",
       "                                                                                         DataFrameSelector(attribute_names=[&#x27;ocean_proximity&#x27;])),\n",
       "                                                                                        (&#x27;label_binarizer&#x27;,\n",
       "                                                                                         MyLabelBinarizer())]))])),\n",
       "                                       (&#x27;svr&#x27;,\n",
       "                                        SVR(C=63512.21010640709,\n",
       "                                            kernel=&#x27;linear&#x27;))]),\n",
       "             param_grid=[{&#x27;preprocessing__numerical_pipeline__attr_adder__add_bedrooms_per_room&#x27;: [False,\n",
       "                                                                                                   True]}],\n",
       "             scoring=&#x27;neg_root_mean_squared_error&#x27;, verbose=3)</pre></div></div></div><div class=\"sk-parallel\"><div class=\"sk-parallel-item\"><div class=\"sk-item\"><div class=\"sk-label-container\"><div class=\"sk-label sk-toggleable\"><input class=\"sk-toggleable__control sk-hidden--visually\" id=\"sk-estimator-id-27\" type=\"checkbox\" ><label for=\"sk-estimator-id-27\" class=\"sk-toggleable__label sk-toggleable__label-arrow\">estimator: Pipeline</label><div class=\"sk-toggleable__content\"><pre>Pipeline(steps=[(&#x27;preprocessing&#x27;,\n",
       "                 FeatureUnion(transformer_list=[(&#x27;numerical_pipeline&#x27;,\n",
       "                                                 Pipeline(steps=[(&#x27;selector&#x27;,\n",
       "                                                                  DataFrameSelector(attribute_names=[&#x27;longitude&#x27;,\n",
       "                                                                                                     &#x27;latitude&#x27;,\n",
       "                                                                                                     &#x27;housing_median_age&#x27;,\n",
       "                                                                                                     &#x27;total_rooms&#x27;,\n",
       "                                                                                                     &#x27;total_bedrooms&#x27;,\n",
       "                                                                                                     &#x27;population&#x27;,\n",
       "                                                                                                     &#x27;households&#x27;,\n",
       "                                                                                                     &#x27;median_income&#x27;])),\n",
       "                                                                 (&#x27;imputer&#x27;,\n",
       "                                                                  SimpleImputer(strategy=&#x27;median&#x27;)),\n",
       "                                                                 (&#x27;attr_adder&#x27;,\n",
       "                                                                  CombinedAttributesAdder()),\n",
       "                                                                 (&#x27;std_scaler&#x27;,\n",
       "                                                                  StandardScaler())])),\n",
       "                                                (&#x27;categorical_pipeline&#x27;,\n",
       "                                                 Pipeline(steps=[(&#x27;selector&#x27;,\n",
       "                                                                  DataFrameSelector(attribute_names=[&#x27;ocean_proximity&#x27;])),\n",
       "                                                                 (&#x27;label_binarizer&#x27;,\n",
       "                                                                  MyLabelBinarizer())]))])),\n",
       "                (&#x27;svr&#x27;, SVR(C=63512.21010640709, kernel=&#x27;linear&#x27;))])</pre></div></div></div><div class=\"sk-serial\"><div class=\"sk-item\"><div class=\"sk-serial\"><div class=\"sk-item sk-dashed-wrapped\"><div class=\"sk-label-container\"><div class=\"sk-label sk-toggleable\"><input class=\"sk-toggleable__control sk-hidden--visually\" id=\"sk-estimator-id-28\" type=\"checkbox\" ><label for=\"sk-estimator-id-28\" class=\"sk-toggleable__label sk-toggleable__label-arrow\">preprocessing: FeatureUnion</label><div class=\"sk-toggleable__content\"><pre>FeatureUnion(transformer_list=[(&#x27;numerical_pipeline&#x27;,\n",
       "                                Pipeline(steps=[(&#x27;selector&#x27;,\n",
       "                                                 DataFrameSelector(attribute_names=[&#x27;longitude&#x27;,\n",
       "                                                                                    &#x27;latitude&#x27;,\n",
       "                                                                                    &#x27;housing_median_age&#x27;,\n",
       "                                                                                    &#x27;total_rooms&#x27;,\n",
       "                                                                                    &#x27;total_bedrooms&#x27;,\n",
       "                                                                                    &#x27;population&#x27;,\n",
       "                                                                                    &#x27;households&#x27;,\n",
       "                                                                                    &#x27;median_income&#x27;])),\n",
       "                                                (&#x27;imputer&#x27;,\n",
       "                                                 SimpleImputer(strategy=&#x27;median&#x27;)),\n",
       "                                                (&#x27;attr_adder&#x27;,\n",
       "                                                 CombinedAttributesAdder()),\n",
       "                                                (&#x27;std_scaler&#x27;,\n",
       "                                                 StandardScaler())])),\n",
       "                               (&#x27;categorical_pipeline&#x27;,\n",
       "                                Pipeline(steps=[(&#x27;selector&#x27;,\n",
       "                                                 DataFrameSelector(attribute_names=[&#x27;ocean_proximity&#x27;])),\n",
       "                                                (&#x27;label_binarizer&#x27;,\n",
       "                                                 MyLabelBinarizer())]))])</pre></div></div></div><div class=\"sk-parallel\"><div class=\"sk-parallel-item\"><div class=\"sk-item\"><div class=\"sk-label-container\"><div class=\"sk-label sk-toggleable\"><label>numerical_pipeline</label></div></div><div class=\"sk-serial\"><div class=\"sk-item\"><div class=\"sk-serial\"><div class=\"sk-item\"><div class=\"sk-estimator sk-toggleable\"><input class=\"sk-toggleable__control sk-hidden--visually\" id=\"sk-estimator-id-29\" type=\"checkbox\" ><label for=\"sk-estimator-id-29\" class=\"sk-toggleable__label sk-toggleable__label-arrow\">DataFrameSelector</label><div class=\"sk-toggleable__content\"><pre>DataFrameSelector(attribute_names=[&#x27;longitude&#x27;, &#x27;latitude&#x27;,\n",
       "                                   &#x27;housing_median_age&#x27;, &#x27;total_rooms&#x27;,\n",
       "                                   &#x27;total_bedrooms&#x27;, &#x27;population&#x27;, &#x27;households&#x27;,\n",
       "                                   &#x27;median_income&#x27;])</pre></div></div></div><div class=\"sk-item\"><div class=\"sk-estimator sk-toggleable\"><input class=\"sk-toggleable__control sk-hidden--visually\" id=\"sk-estimator-id-30\" type=\"checkbox\" ><label for=\"sk-estimator-id-30\" class=\"sk-toggleable__label sk-toggleable__label-arrow\">SimpleImputer</label><div class=\"sk-toggleable__content\"><pre>SimpleImputer(strategy=&#x27;median&#x27;)</pre></div></div></div><div class=\"sk-item\"><div class=\"sk-estimator sk-toggleable\"><input class=\"sk-toggleable__control sk-hidden--visually\" id=\"sk-estimator-id-31\" type=\"checkbox\" ><label for=\"sk-estimator-id-31\" class=\"sk-toggleable__label sk-toggleable__label-arrow\">CombinedAttributesAdder</label><div class=\"sk-toggleable__content\"><pre>CombinedAttributesAdder()</pre></div></div></div><div class=\"sk-item\"><div class=\"sk-estimator sk-toggleable\"><input class=\"sk-toggleable__control sk-hidden--visually\" id=\"sk-estimator-id-32\" type=\"checkbox\" ><label for=\"sk-estimator-id-32\" class=\"sk-toggleable__label sk-toggleable__label-arrow\">StandardScaler</label><div class=\"sk-toggleable__content\"><pre>StandardScaler()</pre></div></div></div></div></div></div></div></div><div class=\"sk-parallel-item\"><div class=\"sk-item\"><div class=\"sk-label-container\"><div class=\"sk-label sk-toggleable\"><label>categorical_pipeline</label></div></div><div class=\"sk-serial\"><div class=\"sk-item\"><div class=\"sk-serial\"><div class=\"sk-item\"><div class=\"sk-estimator sk-toggleable\"><input class=\"sk-toggleable__control sk-hidden--visually\" id=\"sk-estimator-id-33\" type=\"checkbox\" ><label for=\"sk-estimator-id-33\" class=\"sk-toggleable__label sk-toggleable__label-arrow\">DataFrameSelector</label><div class=\"sk-toggleable__content\"><pre>DataFrameSelector(attribute_names=[&#x27;ocean_proximity&#x27;])</pre></div></div></div><div class=\"sk-item\"><div class=\"sk-estimator sk-toggleable\"><input class=\"sk-toggleable__control sk-hidden--visually\" id=\"sk-estimator-id-34\" type=\"checkbox\" ><label for=\"sk-estimator-id-34\" class=\"sk-toggleable__label sk-toggleable__label-arrow\">MyLabelBinarizer</label><div class=\"sk-toggleable__content\"><pre>MyLabelBinarizer()</pre></div></div></div></div></div></div></div></div></div></div><div class=\"sk-item\"><div class=\"sk-estimator sk-toggleable\"><input class=\"sk-toggleable__control sk-hidden--visually\" id=\"sk-estimator-id-35\" type=\"checkbox\" ><label for=\"sk-estimator-id-35\" class=\"sk-toggleable__label sk-toggleable__label-arrow\">SVR</label><div class=\"sk-toggleable__content\"><pre>SVR(C=63512.21010640709, kernel=&#x27;linear&#x27;)</pre></div></div></div></div></div></div></div></div></div></div></div></div>"
      ],
      "text/plain": [
       "GridSearchCV(cv=3,\n",
       "             estimator=Pipeline(steps=[('preprocessing',\n",
       "                                        FeatureUnion(transformer_list=[('numerical_pipeline',\n",
       "                                                                        Pipeline(steps=[('selector',\n",
       "                                                                                         DataFrameSelector(attribute_names=['longitude',\n",
       "                                                                                                                            'latitude',\n",
       "                                                                                                                            'housing_median_age',\n",
       "                                                                                                                            'total_rooms',\n",
       "                                                                                                                            'total_bedrooms',\n",
       "                                                                                                                            'population',\n",
       "                                                                                                                            'households',\n",
       "                                                                                                                            'median_income'])),\n",
       "                                                                                        ('imputer',\n",
       "                                                                                         SimpleImputer(strategy='median')),\n",
       "                                                                                        ('attr_a...\n",
       "                                                                       ('categorical_pipeline',\n",
       "                                                                        Pipeline(steps=[('selector',\n",
       "                                                                                         DataFrameSelector(attribute_names=['ocean_proximity'])),\n",
       "                                                                                        ('label_binarizer',\n",
       "                                                                                         MyLabelBinarizer())]))])),\n",
       "                                       ('svr',\n",
       "                                        SVR(C=63512.21010640709,\n",
       "                                            kernel='linear'))]),\n",
       "             param_grid=[{'preprocessing__numerical_pipeline__attr_adder__add_bedrooms_per_room': [False,\n",
       "                                                                                                   True]}],\n",
       "             scoring='neg_root_mean_squared_error', verbose=3)"
      ]
     },
     "execution_count": 119,
     "metadata": {},
     "output_type": "execute_result"
    }
   ],
   "source": [
    "full_pipeline = Pipeline([\n",
    "    (\"preprocessing\", preprocessing_pipeline),\n",
    "    (\"svr\", SVR(kernel=best_kernel, C=best_C)),\n",
    "])\n",
    "\n",
    "param_grid = [\n",
    "    {\"preprocessing__numerical_pipeline__attr_adder__add_bedrooms_per_room\": [False, True]}\n",
    "]\n",
    "\n",
    "grid_search = GridSearchCV(full_pipeline, param_grid, cv=3,\n",
    "                           scoring=\"neg_root_mean_squared_error\", verbose=3)\n",
    "grid_search.fit(X, y)"
   ]
  },
  {
   "cell_type": "code",
   "execution_count": 122,
   "id": "662d5567-0ef3-4d32-8f8b-89876c8c0348",
   "metadata": {},
   "outputs": [
    {
     "name": "stdout",
     "output_type": "stream",
     "text": [
      "Best parameters: {'preprocessing__numerical_pipeline__attr_adder__add_bedrooms_per_room': False}\n",
      "Best estimator:\t SVR(C=63512.21010640709, kernel='linear')\n",
      "Best score:\t 71772.39287550042\n"
     ]
    }
   ],
   "source": [
    "print(f\"Best parameters: {grid_search.best_params_}\")\n",
    "print(f\"Best estimator:\\t {grid_search.best_estimator_.named_steps[\"svr\"]}\")\n",
    "print(f\"Best score:\\t {-grid_search.best_score_}\")"
   ]
  },
  {
   "cell_type": "code",
   "execution_count": 123,
   "id": "7d0d36cc-7285-43b3-817e-01743eb30b30",
   "metadata": {},
   "outputs": [
    {
     "name": "stdout",
     "output_type": "stream",
     "text": [
      "71772.39\t{'preprocessing__numerical_pipeline__attr_adder__add_bedrooms_per_room': False}\n",
      "74302.77\t{'preprocessing__numerical_pipeline__attr_adder__add_bedrooms_per_room': True}\n"
     ]
    }
   ],
   "source": [
    "cvres = grid_search.cv_results_\n",
    "for mean_score, params in zip(cvres[\"mean_test_score\"], cvres[\"params\"]):\n",
    "    print(f\"{-mean_score:.2f}\\t{params}\")"
   ]
  },
  {
   "cell_type": "code",
   "execution_count": null,
   "id": "d340d58e-246b-47e1-b083-75a2214bf4ef",
   "metadata": {},
   "outputs": [],
   "source": []
  }
 ],
 "metadata": {
  "kernelspec": {
   "display_name": "Python 3 (ipykernel)",
   "language": "python",
   "name": "python3"
  },
  "language_info": {
   "codemirror_mode": {
    "name": "ipython",
    "version": 3
   },
   "file_extension": ".py",
   "mimetype": "text/x-python",
   "name": "python",
   "nbconvert_exporter": "python",
   "pygments_lexer": "ipython3",
   "version": "3.12.2"
  }
 },
 "nbformat": 4,
 "nbformat_minor": 5
}
